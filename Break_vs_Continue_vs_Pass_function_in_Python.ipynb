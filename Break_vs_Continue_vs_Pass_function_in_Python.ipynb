{
  "nbformat": 4,
  "nbformat_minor": 0,
  "metadata": {
    "colab": {
      "name": "Break vs Continue vs Pass function in Python.ipynb",
      "provenance": [],
      "collapsed_sections": [],
      "authorship_tag": "ABX9TyPDT5+2NYFA61xPgkPhNLVU",
      "include_colab_link": true
    },
    "kernelspec": {
      "name": "python3",
      "display_name": "Python 3"
    },
    "language_info": {
      "name": "python"
    }
  },
  "cells": [
    {
      "cell_type": "markdown",
      "metadata": {
        "id": "view-in-github",
        "colab_type": "text"
      },
      "source": [
        "<a href=\"https://colab.research.google.com/github/Vikneshwaran207/Break-vs-Continue-vs-Pass-function/blob/main/Break_vs_Continue_vs_Pass_function_in_Python.ipynb\" target=\"_parent\"><img src=\"https://colab.research.google.com/assets/colab-badge.svg\" alt=\"Open In Colab\"/></a>"
      ]
    },
    {
      "cell_type": "markdown",
      "source": [
        "# Break statement "
      ],
      "metadata": {
        "id": "mlSf1A8Rg92u"
      }
    },
    {
      "cell_type": "code",
      "execution_count": null,
      "metadata": {
        "colab": {
          "base_uri": "https://localhost:8080/"
        },
        "id": "7ageCMw8J77q",
        "outputId": "55d2a03a-09d0-4183-95a2-34917fa213d3"
      },
      "outputs": [
        {
          "output_type": "stream",
          "name": "stdout",
          "text": [
            "Enter a number?5\n",
            "0\n",
            "1\n",
            "2\n",
            "3\n",
            "4\n",
            "bye bye\n"
          ]
        }
      ],
      "source": [
        "a = int(input(\"Enter a number?\"))\n",
        "for num in range(10):\n",
        "  if num == a:\n",
        "    break\n",
        "  print(num)\n",
        "print(\"bye bye\")    "
      ]
    },
    {
      "cell_type": "markdown",
      "source": [
        "# Continue statement"
      ],
      "metadata": {
        "id": "SWphAwRsimK2"
      }
    },
    {
      "cell_type": "code",
      "source": [
        "# Do not print the number which is divisible by (2 or given number) \n",
        "a = int(input(\"Enter a number?\"))\n",
        "for num in range(20):\n",
        "  if num % 3 == 0:\n",
        "    continue\n",
        "  print (num)   "
      ],
      "metadata": {
        "colab": {
          "base_uri": "https://localhost:8080/"
        },
        "id": "ACoUOCVFipM1",
        "outputId": "e1d4cf3c-4e71-4b64-dbb4-37345d8078e8"
      },
      "execution_count": null,
      "outputs": [
        {
          "output_type": "stream",
          "name": "stdout",
          "text": [
            "Enter a number?20\n",
            "1\n",
            "2\n",
            "4\n",
            "5\n",
            "7\n",
            "8\n",
            "10\n",
            "11\n",
            "13\n",
            "14\n",
            "16\n",
            "17\n",
            "19\n"
          ]
        }
      ]
    },
    {
      "cell_type": "markdown",
      "source": [
        "# Pass statement"
      ],
      "metadata": {
        "id": "CX84Lm4ukz5O"
      }
    },
    {
      "cell_type": "code",
      "source": [
        "for letter in \"python\":\n",
        "  if letter == \"y\":\n",
        "    pass\n",
        "    print(\"This is a pass note\")\n",
        "  print(\"Current letter:\", letter)  \n",
        "print(\"Good bye!\")"
      ],
      "metadata": {
        "colab": {
          "base_uri": "https://localhost:8080/"
        },
        "id": "gljgmYsOk2es",
        "outputId": "f07f1c74-3385-48e8-b728-6083e2872b6f"
      },
      "execution_count": null,
      "outputs": [
        {
          "output_type": "stream",
          "name": "stdout",
          "text": [
            "Current letter: p\n",
            "This is a pass note\n",
            "Current letter: y\n",
            "Current letter: t\n",
            "Current letter: h\n",
            "Current letter: o\n",
            "Current letter: n\n",
            "Good bye!\n"
          ]
        }
      ]
    }
  ]
}